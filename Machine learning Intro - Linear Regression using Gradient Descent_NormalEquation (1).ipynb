{
 "cells": [
  {
   "cell_type": "markdown",
   "metadata": {},
   "source": [
    "# Machine Learning\n",
    "Machine learning enables computers to act and make data-driven decisions rather than being explicitly programmed to carry out a certain task."
   ]
  },
  {
   "cell_type": "markdown",
   "metadata": {},
   "source": [
    "![title](images/model.png)"
   ]
  },
  {
   "cell_type": "markdown",
   "metadata": {},
   "source": [
    "The field of machine learning consists of supervised learning,unsupervised learning, and reinforcement learning."
   ]
  },
  {
   "cell_type": "markdown",
   "metadata": {},
   "source": [
    "![title](images/IRL1.png)"
   ]
  },
  {
   "cell_type": "markdown",
   "metadata": {},
   "source": [
    "\n",
    "Supervised learning is where you have input variables (x) and an output variable (Y) and you use an algorithm to learn the mapping function from the input to the output.\n",
    "Y = f(X)\n",
    "\n",
    "Supervised learning problems can be further grouped into regression and classification problems."
   ]
  },
  {
   "cell_type": "markdown",
   "metadata": {},
   "source": [
    "### Classification: \n",
    "A classification problem is when the output variable is a category, such as \"yes\" or \"no\" or \"spam\" and \"not spam\"."
   ]
  },
  {
   "cell_type": "markdown",
   "metadata": {},
   "source": [
    "![title](images/download.png)"
   ]
  },
  {
   "cell_type": "code",
   "execution_count": null,
   "metadata": {},
   "outputs": [],
   "source": [
    "from  sklearn import tree\n",
    "#features=[[140,\"red\"],[145,\"red\"],[170,\"Yellow\"],[180,\"yellow\"]]\n",
    "features=[[140,1],[150,1],[170,0],[180,0]]\n",
    "#labels=[\"apple\",\"apple\",\"orange\",\"orange\"]\n",
    "labels=[1,1,0,0]\n",
    "clf=tree.DecisionTreeClassifier()\n",
    "clf=clf.fit(features,labels)\n",
    "print(clf.predict([[160,1]]))"
   ]
  },
  {
   "cell_type": "markdown",
   "metadata": {},
   "source": [
    "### Regression:\n",
    "Regressipon predicts a continuous target variable Y. It allows you to estimate a value, such as prices or weight, based on input data x."
   ]
  },
  {
   "cell_type": "markdown",
   "metadata": {},
   "source": [
    "High Level Idea:Based on the Lot of Inputs and outputs we found a equation or Function that maps the inputs to Outputs."
   ]
  },
  {
   "cell_type": "markdown",
   "metadata": {},
   "source": [
    "![title](images/linear regression.gif)"
   ]
  },
  {
   "cell_type": "markdown",
   "metadata": {},
   "source": [
    "Let’s suppose we want to model the above set of points with a line. To do this we’ll use the standard y = mx + b line equation where m is the line’s slope and b is the line’s y-intercept. To find the best line for our data, we need to find the best set of slope m and y-intercept b values.\n",
    "A standard approach to solving this type of problem is to define an error function (also called a cost function) that measures how “good” a given line is. This function will take in a (m,b) pair and return an error value based on how well the line fits our data. To compute this error for a given line, we’ll iterate through each (x,y) point in our data set and sum the square distances between each point’s y value and the candidate line’s y value (computed at mx + b). It’s conventional to square this distance to ensure that it is positive and to make our error function differentiable. \n"
   ]
  },
  {
   "cell_type": "markdown",
   "metadata": {},
   "source": [
    "![title](images/gradient_descent_example.gif)"
   ]
  },
  {
   "cell_type": "markdown",
   "metadata": {},
   "source": [
    "### Cost Function\n",
    "![title](images/CostFunction.PNG)\n",
    "![title](images/CostFunction1.PNG)"
   ]
  },
  {
   "cell_type": "markdown",
   "metadata": {},
   "source": [
    "![title](images/gradient_descent_error_surface.png)"
   ]
  },
  {
   "cell_type": "markdown",
   "metadata": {},
   "source": [
    "Each point in this two-dimensional space represents a line. The height of the function at each point is the error value for that line. You can see that some lines yield smaller error values than others (i.e., fit our data better). When we run gradient descent search, we will start from some location on this surface and move downhill to find the line with the lowest error.\n",
    "\n",
    "To run gradient descent on this error function, we first need to compute its gradient. The gradient will act like a compass and always point us downhill. To compute it, we will need to differentiate our error function. Since our function is defined by two parameters (m and b), we will need to compute a partial derivative for each. These derivatives work out to be:"
   ]
  },
  {
   "cell_type": "markdown",
   "metadata": {},
   "source": [
    "![title](images/linear_regression_gradient1.png)"
   ]
  },
  {
   "cell_type": "markdown",
   "metadata": {},
   "source": [
    "Each iteration will update m and b to a line that yields slightly lower error than the previous iteration. The direction to move in for each iteration is calculated using the two partial derivatives from above.The learningRate variable controls how large of a step we take downhill during each iteration. If we take too large of a step, we may step over the minimum. However, if we take small steps, it will require many iterations to arrive at the minimum.\n"
   ]
  },
  {
   "cell_type": "markdown",
   "metadata": {},
   "source": [
    "We can also observe how the error changes as we move toward the minimum. A good way to ensure that gradient descent is working correctly is to make sure that the error decreases for each iteration. Below is a plot of error values for the first 100 iterations of the above gradient search."
   ]
  },
  {
   "cell_type": "markdown",
   "metadata": {},
   "source": [
    "I’ll give an introduction to the Gradient Descent algorithm, and walk through an example that demonstrates how gradient descent can be used to solve machine learning problems such as linear regression.\n",
    "gradient descent is an algorithm that minimizes functions. Before Discussing about GradientDescent we will discuss Linear regression"
   ]
  },
  {
   "cell_type": "code",
   "execution_count": 5,
   "metadata": {
    "scrolled": false
   },
   "outputs": [
    {
     "name": "stdout",
     "output_type": "stream",
     "text": [
      "c-value 0.014547010110737297 m-value 0.7370702973591052 Cost Function------ 1484.586557408649\n",
      "c-value 0.02187396295959641 m-value 1.1067954543515157 Cost Function------ 457.8542575737673\n",
      "c-value 0.025579224321293136 m-value 1.2922546649131115 Cost Function------ 199.50998572553894\n",
      "c-value 0.027467789559144355 m-value 1.385283255651245 Cost Function------ 134.50591058200533\n",
      "c-value 0.028445071981738963 m-value 1.4319472323843205 Cost Function------ 118.14969342239947\n",
      "c-value 0.02896524076647862 m-value 1.4553540088980408 Cost Function------ 114.0341490603815\n",
      "c-value 0.0292561141260467 m-value 1.4670946177201354 Cost Function------ 112.99857731713661\n",
      "c-value 0.02943196916380713 m-value 1.4729832982243762 Cost Function------ 112.7379818756847\n",
      "c-value 0.029550129024383073 m-value 1.4759365618962286 Cost Function------ 112.67238435909097\n",
      "c-value 0.02963934787473239 m-value 1.4774173755483797 Cost Function------ 112.65585181499746\n",
      "c-value 0.029714049245227046 m-value 1.4781595857319891 Cost Function------ 112.65166489759584\n",
      "c-value 0.029781468199526522 m-value 1.4785313011122556 Cost Function------ 112.65058436150113\n",
      "c-value 0.02984523395633242 m-value 1.4787171706313593 Cost Function------ 112.65028544701505\n",
      "c-value 0.02990716698731024 m-value 1.4788098170256598 Cost Function------ 112.6501832029397\n",
      "c-value 0.029968180468920396 m-value 1.4788557012777626 Cost Function------ 112.65013044507197\n",
      "c-value 0.0300287324644578 m-value 1.4788781289278565 Cost Function------ 112.65009013922885\n",
      "c-value 0.030089052745485803 m-value 1.4788887903917065 Cost Function------ 112.65005296694635\n",
      "c-value 0.030149256568940068 m-value 1.4788935497608395 Cost Function------ 112.65001658353181\n",
      "c-value 0.030209401749465813 m-value 1.4788953485533445 Cost Function------ 112.64998039901862\n",
      "c-value 0.030269517287775917 m-value 1.478895662279729 Cost Function------ 112.64994426496074\n",
      "c-value 0.030329617731073667 m-value 1.4788952310786534 Cost Function------ 112.64990814400619\n",
      "c-value 0.030389710376460655 m-value 1.4788944262150017 Cost Function------ 112.64987202675677\n",
      "c-value 0.030449798884276465 m-value 1.4788934339209232 Cost Function------ 112.6498359108476\n",
      "c-value 0.030509885090605177 m-value 1.4788923476133156 Cost Function------ 112.6497997956837\n",
      "c-value 0.03056996991645638 m-value 1.4788912141515247 Cost Function------ 112.64976368111527\n",
      "c-value 0.03063005382382429 m-value 1.4788900570409158 Cost Function------ 112.64972756710466\n",
      "c-value 0.03069013704445399 m-value 1.4788888880721398 Cost Function------ 112.64969145364233\n",
      "c-value 0.030750219694594058 m-value 1.478887713159568 Cost Function------ 112.6496553407261\n",
      "c-value 0.030810301832558278 m-value 1.4788865352699392 Cost Function------ 112.64961922835515\n",
      "c-value 0.030870383487599434 m-value 1.4788853558914152 Cost Function------ 112.64958311652931\n",
      "c-value 0.03093046467439288 m-value 1.4788841757704807 Cost Function------ 112.64954700524882\n",
      "c-value 0.0309905454003017 m-value 1.4788829952815838 Cost Function------ 112.64951089451318\n",
      "c-value 0.031050625669021042 m-value 1.4788818146125533 Cost Function------ 112.64947478432276\n",
      "c-value 0.03111070548240615 m-value 1.478880633857607 Cost Function------ 112.64943867467751\n",
      "c-value 0.031170784841389347 m-value 1.4788794530640061 Cost Function------ 112.64940256557722\n",
      "c-value 0.03123086374644001 m-value 1.4788782722554572 Cost Function------ 112.64936645702217\n",
      "c-value 0.03129094219779529 m-value 1.478877091443852 Cost Function------ 112.64933034901209\n",
      "c-value 0.031351020195575854 m-value 1.4788759106351557 Cost Function------ 112.64929424154703\n",
      "c-value 0.031411097739843935 m-value 1.4788747298323603 Cost Function------ 112.64925813462713\n",
      "c-value 0.03147117483063245 m-value 1.4788735490369667 Cost Function------ 112.64922202825228\n",
      "c-value 0.031531251467959626 m-value 1.4788723682497276 Cost Function------ 112.6491859224223\n",
      "c-value 0.0315913276518363 m-value 1.4788711874710208 Cost Function------ 112.64914981713753\n",
      "c-value 0.03165140338226963 m-value 1.4788700067010354 Cost Function------ 112.64911371239778\n",
      "c-value 0.031711478659264894 m-value 1.4788688259398666 Cost Function------ 112.64907760820297\n",
      "c-value 0.03177155348282646 m-value 1.478867645187562 Cost Function------ 112.64904150455321\n",
      "c-value 0.03183162785295821 m-value 1.4788664644441452 Cost Function------ 112.64900540144839\n",
      "c-value 0.03189170176966381 m-value 1.4788652837096283 Cost Function------ 112.64896929888867\n",
      "c-value 0.0319517752329468 m-value 1.4788641029840173 Cost Function------ 112.64893319687393\n",
      "c-value 0.03201184824281067 m-value 1.478862922267315 Cost Function------ 112.64889709540407\n",
      "c-value 0.03207192079925886 m-value 1.4788617415595229 Cost Function------ 112.64886099447925\n",
      "c-value 0.032131992902294806 m-value 1.4788605608606418 Cost Function------ 112.64882489409928\n",
      "c-value 0.032192064551921945 m-value 1.478859380170672 Cost Function------ 112.64878879426435\n",
      "c-value 0.032252135748143694 m-value 1.4788581994896135 Cost Function------ 112.6487526949743\n",
      "c-value 0.03231220649096349 m-value 1.4788570188174663 Cost Function------ 112.64871659622933\n",
      "c-value 0.03237227678038474 m-value 1.4788558381542305 Cost Function------ 112.6486804980292\n",
      "c-value 0.03243234661641088 m-value 1.478854657499906 Cost Function------ 112.64864440037395\n",
      "c-value 0.03249241599904533 m-value 1.4788534768544928 Cost Function------ 112.64860830326369\n",
      "c-value 0.032552484928291506 m-value 1.4788522962179906 Cost Function------ 112.64857220669826\n",
      "c-value 0.03261255340415284 m-value 1.4788511155903998 Cost Function------ 112.64853611067775\n",
      "c-value 0.03267262142663274 m-value 1.4788499349717201 Cost Function------ 112.64850001520203\n",
      "c-value 0.03273268899573464 m-value 1.4788487543619513 Cost Function------ 112.64846392027134\n",
      "c-value 0.032792756111461964 m-value 1.4788475737610933 Cost Function------ 112.64842782588546\n",
      "c-value 0.032852822773818124 m-value 1.4788463931691462 Cost Function------ 112.64839173204442\n",
      "c-value 0.032912888982806546 m-value 1.47884521258611 Cost Function------ 112.64835563874827\n",
      "c-value 0.032972954738430656 m-value 1.4788440320119847 Cost Function------ 112.64831954599687\n",
      "c-value 0.03303302004069387 m-value 1.47884285144677 Cost Function------ 112.64828345379041\n",
      "c-value 0.03309308488959961 m-value 1.4788416708904657 Cost Function------ 112.6482473621288\n",
      "c-value 0.033153149285151305 m-value 1.478840490343072 Cost Function------ 112.64821127101195\n",
      "c-value 0.033213213227352364 m-value 1.4788393098045889 Cost Function------ 112.64817518043988\n",
      "c-value 0.033273276716206224 m-value 1.4788381292750161 Cost Function------ 112.64813909041263\n",
      "c-value 0.0333333397517163 m-value 1.4788369487543538 Cost Function------ 112.64810300093023\n",
      "c-value 0.033393402333886005 m-value 1.4788357682426014 Cost Function------ 112.64806691199259\n",
      "c-value 0.033453464462718775 m-value 1.4788345877397595 Cost Function------ 112.64803082359973\n",
      "c-value 0.03351352613821802 m-value 1.4788334072458276 Cost Function------ 112.6479947357516\n",
      "c-value 0.03357358736038717 m-value 1.4788322267608058 Cost Function------ 112.64795864844824\n",
      "c-value 0.03363364812922964 m-value 1.478831046284694 Cost Function------ 112.64792256168965\n",
      "c-value 0.03369370844474886 m-value 1.4788298658174923 Cost Function------ 112.64788647547576\n",
      "c-value 0.03375376830694824 m-value 1.4788286853592003 Cost Function------ 112.64785038980665\n",
      "c-value 0.03381382771583121 m-value 1.478827504909818 Cost Function------ 112.64781430468229\n",
      "c-value 0.03387388667140119 m-value 1.4788263244693456 Cost Function------ 112.64777822010262\n",
      "c-value 0.033933945173661606 m-value 1.4788251440377829 Cost Function------ 112.64774213606768\n",
      "c-value 0.03399400322261587 m-value 1.4788239636151297 Cost Function------ 112.64770605257742\n",
      "c-value 0.03405406081826741 m-value 1.478822783201386 Cost Function------ 112.64766996963193\n",
      "c-value 0.034114117960619646 m-value 1.4788216027965517 Cost Function------ 112.64763388723102\n",
      "c-value 0.034174174649676 m-value 1.478820422400627 Cost Function------ 112.6475978053749\n",
      "c-value 0.03423423088543989 m-value 1.4788192420136113 Cost Function------ 112.64756172406332\n",
      "c-value 0.034294286667914745 m-value 1.4788180616355049 Cost Function------ 112.64752564329656\n",
      "c-value 0.03435434199710398 m-value 1.4788168812663078 Cost Function------ 112.64748956307429\n",
      "c-value 0.03441439687301102 m-value 1.47881570090602 Cost Function------ 112.6474534833968\n",
      "c-value 0.03447445129563927 m-value 1.4788145205546412 Cost Function------ 112.64741740426382\n",
      "c-value 0.034534505264992174 m-value 1.4788133402121713 Cost Function------ 112.64738132567561\n",
      "c-value 0.03459455878107314 m-value 1.4788121598786104 Cost Function------ 112.64734524763193\n",
      "c-value 0.034654611843885595 m-value 1.4788109795539583 Cost Function------ 112.64730917013289\n",
      "c-value 0.03471466445343296 m-value 1.478809799238215 Cost Function------ 112.64727309317841\n",
      "c-value 0.03477471660971865 m-value 1.4788086189313803 Cost Function------ 112.64723701676857\n",
      "c-value 0.03483476831274609 m-value 1.4788074386334544 Cost Function------ 112.6472009409034\n",
      "c-value 0.0348948195625187 m-value 1.478806258344437 Cost Function------ 112.64716486558272\n",
      "c-value 0.03495487035903991 m-value 1.478805078064328 Cost Function------ 112.64712879080662\n",
      "c-value 0.03501492070231313 m-value 1.4788038977931277 Cost Function------ 112.64709271657507\n",
      "c-value 0.035074970592341784 m-value 1.4788027175308358 Cost Function------ 112.64705664288809\n",
      "c-value 0.03513502002912929 m-value 1.4788015372774521 Cost Function------ 112.64702056974568\n",
      "c-value 0.035195069012679076 m-value 1.4788003570329766 Cost Function------ 112.64698449714773\n",
      "c-value 0.03525511754299456 m-value 1.4787991767974094 Cost Function------ 112.64694842509438\n",
      "c-value 0.035315165620079164 m-value 1.4787979965707503 Cost Function------ 112.64691235358552\n",
      "c-value 0.035375213243936304 m-value 1.4787968163529992 Cost Function------ 112.64687628262124\n",
      "c-value 0.0354352604145694 m-value 1.478795636144156 Cost Function------ 112.64684021220145\n",
      "c-value 0.03549530713198189 m-value 1.4787944559442208 Cost Function------ 112.6468041423261\n",
      "c-value 0.03555535339617717 m-value 1.4787932757531934 Cost Function------ 112.64676807299533\n",
      "c-value 0.03561539920715868 m-value 1.4787920955710738 Cost Function------ 112.64673200420897\n",
      "c-value 0.035675444564929826 m-value 1.478790915397862 Cost Function------ 112.64669593596709\n",
      "c-value 0.03573548946949404 m-value 1.4787897352335577 Cost Function------ 112.64665986826967\n",
      "c-value 0.035795533920854744 m-value 1.4787885550781612 Cost Function------ 112.64662380111675\n",
      "c-value 0.03585557791901534 m-value 1.478787374931672 Cost Function------ 112.64658773450829\n",
      "c-value 0.03591562146397927 m-value 1.4787861947940903 Cost Function------ 112.6465516684441\n",
      "c-value 0.03597566455574995 m-value 1.478785014665416 Cost Function------ 112.64651560292452\n",
      "c-value 0.036035707194330795 m-value 1.478783834545649 Cost Function------ 112.64647953794936\n",
      "c-value 0.03609574937972523 m-value 1.4787826544347893 Cost Function------ 112.64644347351859\n",
      "c-value 0.03615579111193667 m-value 1.4787814743328367 Cost Function------ 112.64640740963219\n",
      "c-value 0.03621583239096853 m-value 1.4787802942397912 Cost Function------ 112.64637134629021\n",
      "c-value 0.036275873216824246 m-value 1.4787791141556528 Cost Function------ 112.6463352834926\n",
      "c-value 0.03633591358950723 m-value 1.4787779340804212 Cost Function------ 112.64629922123945\n",
      "c-value 0.03639595350902091 m-value 1.4787767540140966 Cost Function------ 112.64626315953065\n",
      "c-value 0.036455992975368695 m-value 1.4787755739566788 Cost Function------ 112.64622709836617\n",
      "c-value 0.036516031988554014 m-value 1.478774393908168 Cost Function------ 112.64619103774604\n",
      "c-value 0.03657607054858028 m-value 1.4787732138685636 Cost Function------ 112.64615497767028\n",
      "c-value 0.03663610865545092 m-value 1.478772033837866 Cost Function------ 112.64611891813887\n",
      "c-value 0.036696146309169356 m-value 1.4787708538160749 Cost Function------ 112.64608285915183\n",
      "c-value 0.036756183509739 m-value 1.4787696738031904 Cost Function------ 112.64604680070912\n",
      "c-value 0.036816220257163274 m-value 1.4787684937992123 Cost Function------ 112.64601074281069\n",
      "c-value 0.0368762565514456 m-value 1.4787673138041404 Cost Function------ 112.64597468545651\n",
      "c-value 0.0369362923925894 m-value 1.478766133817975 Cost Function------ 112.64593862864669\n",
      "c-value 0.036996327780598096 m-value 1.4787649538407157 Cost Function------ 112.64590257238123\n",
      "c-value 0.037056362715475105 m-value 1.4787637738723627 Cost Function------ 112.64586651665992\n",
      "c-value 0.037116397197223844 m-value 1.4787625939129156 Cost Function------ 112.64583046148299\n",
      "c-value 0.03717643122584774 m-value 1.4787614139623748 Cost Function------ 112.64579440685031\n",
      "c-value 0.037236464801350205 m-value 1.4787602340207397 Cost Function------ 112.64575835276186\n",
      "c-value 0.03729649792373467 m-value 1.4787590540880107 Cost Function------ 112.64572229921764\n",
      "c-value 0.03735653059300455 m-value 1.4787578741641874 Cost Function------ 112.64568624621779\n",
      "c-value 0.03741656280916326 m-value 1.47875669424927 Cost Function------ 112.645650193762\n",
      "c-value 0.037476594572214215 m-value 1.4787555143432582 Cost Function------ 112.64561414185059\n",
      "c-value 0.03753662588216085 m-value 1.478754334446152 Cost Function------ 112.6455780904833\n",
      "c-value 0.03759665673900658 m-value 1.4787531545579515 Cost Function------ 112.64554203966023\n",
      "c-value 0.037656687142754816 m-value 1.4787519746786564 Cost Function------ 112.64550598938142\n",
      "c-value 0.03771671709340899 m-value 1.4787507948082665 Cost Function------ 112.64546993964676\n",
      "c-value 0.03777674659097252 m-value 1.4787496149467823 Cost Function------ 112.64543389045627\n",
      "c-value 0.03783677563544882 m-value 1.4787484350942033 Cost Function------ 112.64539784181001\n",
      "c-value 0.037896804226841316 m-value 1.4787472552505294 Cost Function------ 112.64536179370792\n",
      "c-value 0.037956832365153424 m-value 1.4787460754157609 Cost Function------ 112.64532574614992\n",
      "c-value 0.03801686005038856 m-value 1.4787448955898972 Cost Function------ 112.6452896991361\n",
      "c-value 0.03807688728255015 m-value 1.4787437157729386 Cost Function------ 112.64525365266653\n",
      "c-value 0.03813691406164161 m-value 1.4787425359648851 Cost Function------ 112.64521760674101\n",
      "c-value 0.03819694038766636 m-value 1.4787413561657365 Cost Function------ 112.64518156135962\n",
      "c-value 0.03825696626062782 m-value 1.4787401763754926 Cost Function------ 112.64514551652229\n",
      "c-value 0.03831699168052941 m-value 1.4787389965941535 Cost Function------ 112.64510947222911\n",
      "c-value 0.03837701664737455 m-value 1.4787378168217191 Cost Function------ 112.64507342848009\n",
      "c-value 0.03843704116116666 m-value 1.4787366370581894 Cost Function------ 112.64503738527512\n",
      "c-value 0.03849706522190916 m-value 1.478735457303564 Cost Function------ 112.64500134261426\n",
      "c-value 0.03855708882960547 m-value 1.4787342775578434 Cost Function------ 112.64496530049745\n",
      "c-value 0.038617111984259 m-value 1.478733097821027 Cost Function------ 112.64492925892475\n",
      "c-value 0.03867713468587319 m-value 1.4787319180931149 Cost Function------ 112.64489321789611\n",
      "c-value 0.038737156934451435 m-value 1.478730738374107 Cost Function------ 112.64485717741151\n",
      "c-value 0.038797178729997175 m-value 1.4787295586640037 Cost Function------ 112.64482113747094\n",
      "c-value 0.038857200072513816 m-value 1.4787283789628043 Cost Function------ 112.64478509807446\n",
      "c-value 0.038917220962004784 m-value 1.478727199270509 Cost Function------ 112.644749059222\n",
      "c-value 0.03897724139847349 m-value 1.4787260195871177 Cost Function------ 112.64471302091347\n",
      "c-value 0.03903726138192337 m-value 1.4787248399126305 Cost Function------ 112.64467698314903\n",
      "c-value 0.039097280912357826 m-value 1.478723660247047 Cost Function------ 112.64464094592863\n",
      "c-value 0.039157299989780285 m-value 1.4787224805903674 Cost Function------ 112.64460490925214\n",
      "c-value 0.03921731861419416 m-value 1.4787213009425915 Cost Function------ 112.64456887311977\n",
      "c-value 0.039277336785602884 m-value 1.4787201213037193 Cost Function------ 112.6445328375312\n",
      "c-value 0.03933735450400987 m-value 1.4787189416737507 Cost Function------ 112.64449680248669\n",
      "c-value 0.03939737176941852 m-value 1.4787177620526857 Cost Function------ 112.6444607679862\n",
      "c-value 0.03945738858183228 m-value 1.478716582440524 Cost Function------ 112.64442473402961\n",
      "c-value 0.03951740494125455 m-value 1.4787154028372658 Cost Function------ 112.64438870061689\n",
      "c-value 0.03957742084768876 m-value 1.4787142232429111 Cost Function------ 112.64435266774825\n",
      "c-value 0.03963743630113833 m-value 1.4787130436574596 Cost Function------ 112.64431663542345\n",
      "c-value 0.039697451301606665 m-value 1.4787118640809112 Cost Function------ 112.64428060364267\n",
      "c-value 0.039757465849097194 m-value 1.478710684513266 Cost Function------ 112.6442445724057\n",
      "c-value 0.039817479943613336 m-value 1.478709504954524 Cost Function------ 112.6442085417127\n",
      "c-value 0.03987749358515851 m-value 1.4787083254046849 Cost Function------ 112.64417251156355\n",
      "c-value 0.039937506773736135 m-value 1.4787071458637486 Cost Function------ 112.6441364819583\n",
      "c-value 0.03999751950934963 m-value 1.4787059663317152 Cost Function------ 112.64410045289705\n",
      "c-value 0.04005753179200241 m-value 1.4787047868085847 Cost Function------ 112.64406442437956\n",
      "c-value 0.04011754362169789 m-value 1.478703607294357 Cost Function------ 112.64402839640596\n",
      "c-value 0.0401775549984395 m-value 1.4787024277890317 Cost Function------ 112.64399236897627\n",
      "c-value 0.04023756592223066 m-value 1.4787012482926094 Cost Function------ 112.64395634209028\n",
      "c-value 0.04029757639307478 m-value 1.4787000688050895 Cost Function------ 112.64392031574826\n",
      "c-value 0.04035758641097528 m-value 1.478698889326472 Cost Function------ 112.64388428994998\n",
      "c-value 0.04041759597593558 m-value 1.4786977098567569 Cost Function------ 112.6438482646956\n",
      "c-value 0.040477605087959105 m-value 1.478696530395944 Cost Function------ 112.64381223998498\n",
      "c-value 0.04053761374704926 m-value 1.4786953509440337 Cost Function------ 112.64377621581824\n",
      "c-value 0.04059762195320948 m-value 1.4786941715010253 Cost Function------ 112.64374019219524\n",
      "c-value 0.04065762970644317 m-value 1.4786929920669192 Cost Function------ 112.64370416911612\n",
      "c-value 0.04071763700675375 m-value 1.4786918126417152 Cost Function------ 112.64366814658071\n",
      "c-value 0.040777643854144646 m-value 1.4786906332254133 Cost Function------ 112.64363212458908\n",
      "c-value 0.04083765024861927 m-value 1.478689453818013 Cost Function------ 112.64359610314125\n",
      "c-value 0.040897656190181035 m-value 1.4786882744195147 Cost Function------ 112.64356008223712\n",
      "c-value 0.04095766167883337 m-value 1.4786870950299182 Cost Function------ 112.6435240618768\n",
      "c-value 0.041017666714579695 m-value 1.4786859156492236 Cost Function------ 112.64348804206018\n",
      "c-value 0.04107767129742342 m-value 1.4786847362774305 Cost Function------ 112.64345202278727\n"
     ]
    }
   ],
   "source": [
    "from numpy import *\n",
    "\n",
    "def costFunction(c,m,data):\n",
    "   \n",
    "    totalError=0\n",
    "    for i in range(0, len(data)):\n",
    "         y=data[i,1]\n",
    "         x=data[i,0]\n",
    "         totalError+=(y-(m*x+c))**2\n",
    "    return totalError/float(len(data))\n",
    "   \n",
    "def gradientDescent(c,m,data,learningRate):\n",
    "    derivative_c=0\n",
    "    derivative_m=0\n",
    "    for i in range(0,len(data)):\n",
    "        y=data[i,1]\n",
    "        x=data[i,0]\n",
    "        derivative_c+=-(2*(y-(m*x+c)))/len(data)\n",
    "        derivative_m+=-2*x*(y-(m*x+c))/len(data)\n",
    "    Step_c=c-(learningRate*derivative_c)\n",
    "    Step_m=m-(learningRate*derivative_m)\n",
    "    return[Step_c,Step_m]\n",
    "\n",
    "\n",
    "def gradientDescentConverger(c,m,data,leraningrate,iterations):\n",
    "   \n",
    "    for i in range(0,iterations):\n",
    "     [c, m]=gradientDescent(c,m,data,leraningrate)\n",
    "     print(\"c-value\",c,\"m-value\",m,  \"Cost Function------\",costFunction(c,m,data))\n",
    "    \n",
    "    return[c,m]\n",
    "\n",
    "def run():\n",
    "    data=genfromtxt(\"Lineardata.csv\", delimiter=\",\")\n",
    "    learningRate=0.0001\n",
    "    inital_c=0\n",
    "    inital_m=0\n",
    "    iterations=200\n",
    "   # print(costFunction(inital_c,inital_m,data))\n",
    "    #print(gradientDescent(inital_c,inital_m,data,learningRate))\n",
    "    gradientDescentConverger(inital_c,inital_m,data,learningRate,iterations)\n",
    "    \n",
    "   \n",
    "if __name__ == '__main__':\n",
    "    run()"
   ]
  },
  {
   "cell_type": "markdown",
   "metadata": {},
   "source": [
    "![title](images/gradient_descent_error_by_iteration.png)"
   ]
  },
  {
   "cell_type": "code",
   "execution_count": 6,
   "metadata": {},
   "outputs": [
    {
     "name": "stdout",
     "output_type": "stream",
     "text": [
      "71.2393388632\n",
      "71.66581024173634\n"
     ]
    }
   ],
   "source": [
    "# predicting out put for x values\n",
    "\n",
    "print((1.478684*48.1498)+0.0410)\n",
    "print((1.3224310227553597*48.1498)+7.991020982270324)"
   ]
  },
  {
   "cell_type": "markdown",
   "metadata": {},
   "source": [
    "### Normal equation\n",
    "Gradient descent gives one way of minimizing J. Let’s discuss a second way of doing so, this time performing the minimization explicitly and without resorting to an iterative algorithm. In the \"Normal Equation\" method, we will minimize J by explicitly taking its derivatives with respect to the θj ’s, and setting them to zero. This allows us to find the optimum theta without iteration. The normal equation formula is given below:\n",
    "\n"
   ]
  },
  {
   "attachments": {},
   "cell_type": "markdown",
   "metadata": {},
   "source": [
    "![title](images/NormalEquation.jpg)"
   ]
  },
  {
   "cell_type": "code",
   "execution_count": 7,
   "metadata": {},
   "outputs": [
    {
     "name": "stdout",
     "output_type": "stream",
     "text": [
      "Theta0= 7.991020982270324 Theta1= 1.3224310227553597\n",
      "costfunction= 110.2573834662132\n"
     ]
    }
   ],
   "source": [
    "import numpy as np\n",
    "def costFunction(theta0,theta1,data):\n",
    "    totalError=0\n",
    "    for i in range(0, len(data)):\n",
    "         y=data[i,1]\n",
    "         x=data[i,0]\n",
    "         totalError+=(y-(theta1*x+theta0))**2\n",
    "    return totalError/float(len(data))\n",
    "def run():\n",
    "    data=np.genfromtxt(\"Lineardata.csv\", delimiter=\",\")\n",
    "    X=[[0 for i in range(2)] for j in range(len(data))]\n",
    "    Y=[0 for i in range(len(data))]\n",
    "    for i in range(0,len(data)):\n",
    "        X[i][0]=1\n",
    "        X[i][1]=data[i,0]\n",
    "        Y[i]=data[i,1] \n",
    "    Xt=np.transpose(X)\n",
    "    [Theta0, Theta1]=np.dot(np.dot(np.linalg.inv(np.dot(Xt, X)), Xt), Y)\n",
    "    print('Theta0=',Theta0,'Theta1=', Theta1)\n",
    "    print('costfunction=',costFunction(Theta0,Theta1,data))\n",
    "    y1=51.84518690563943*1.3224310227553597 + 7.991020982270324\n",
    "    gradient=51.84518690563943*1.4731250921538916+0.32394362446450875\n",
    "    #print(y1,gradient)\n",
    "if __name__ == '__main__':\n",
    "    run()"
   ]
  },
  {
   "cell_type": "code",
   "execution_count": null,
   "metadata": {},
   "outputs": [],
   "source": []
  }
 ],
 "metadata": {
  "kernelspec": {
   "display_name": "Python 3",
   "language": "python",
   "name": "python3"
  },
  "language_info": {
   "codemirror_mode": {
    "name": "ipython",
    "version": 3
   },
   "file_extension": ".py",
   "mimetype": "text/x-python",
   "name": "python",
   "nbconvert_exporter": "python",
   "pygments_lexer": "ipython3",
   "version": "3.6.4"
  }
 },
 "nbformat": 4,
 "nbformat_minor": 2
}
